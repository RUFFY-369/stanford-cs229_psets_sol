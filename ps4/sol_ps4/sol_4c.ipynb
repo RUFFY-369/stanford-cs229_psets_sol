{
 "cells": [
  {
   "cell_type": "markdown",
   "metadata": {},
   "source": [
    "Cocktail Party Problem"
   ]
  },
  {
   "cell_type": "code",
   "execution_count": 38,
   "metadata": {},
   "outputs": [],
   "source": [
    "import numpy as np\n",
    "import scipy.io.wavfile"
   ]
  },
  {
   "cell_type": "code",
   "execution_count": 39,
   "metadata": {},
   "outputs": [],
   "source": [
    "#Sample rate(samples/sec)\n",
    "Fs = 11025\n"
   ]
  },
  {
   "cell_type": "code",
   "execution_count": 40,
   "metadata": {},
   "outputs": [],
   "source": [
    "def update_W(W, x, learning_rate):\n",
    "    \"\"\"\n",
    "    Perform a gradient ascent update on W using data element x and the provided learning rate.\n",
    "\n",
    "    This function should return the updated W.\n",
    "\n",
    "    Use the laplace distribiution in this problem.\n",
    "\n",
    "    Args:\n",
    "        W: The W matrix for ICA\n",
    "        x: A single data element\n",
    "        learning_rate: The learning rate to use\n",
    "\n",
    "    Returns:\n",
    "        The updated W\n",
    "    \"\"\"\n",
    "    x=np.reshape(x,(x.shape[0],1))\n",
    "    \n",
    "    #Gradient ascent update\n",
    "    W=W+learning_rate*((np.linalg.pinv(W.T))-((np.sign((W@x)))@x.T)) #'.pinv()' instead of '.inv()' for pseudo inverse if in case the determinant is zero\n",
    "    \n",
    "    return W"
   ]
  },
  {
   "cell_type": "code",
   "execution_count": 48,
   "metadata": {},
   "outputs": [],
   "source": [
    "def unmix(X, W):\n",
    "    \"\"\"\n",
    "    Unmix an X matrix according to W using ICA.\n",
    "\n",
    "    Args:\n",
    "        X: The data matrix\n",
    "        W: The W for ICA\n",
    "\n",
    "    Returns:\n",
    "        A numpy array S containing the split data\n",
    "    \"\"\"\n",
    "\n",
    "    S=np.zeros(X.shape)\n",
    "    S=X@(W.T)\n",
    "\n",
    "\n",
    "   \n",
    "\n",
    "    return S"
   ]
  },
  {
   "cell_type": "code",
   "execution_count": 49,
   "metadata": {},
   "outputs": [],
   "source": [
    "def normalize(dat):\n",
    "    return 0.99 * dat / np.max(np.abs(dat))\n"
   ]
  },
  {
   "cell_type": "code",
   "execution_count": 50,
   "metadata": {},
   "outputs": [],
   "source": [
    "def load_data():\n",
    "    mix = np.loadtxt(r'mix.dat')\n",
    "    return mix\n"
   ]
  },
  {
   "cell_type": "code",
   "execution_count": 51,
   "metadata": {},
   "outputs": [],
   "source": [
    "def save_sound(audio, name):\n",
    "    scipy.io.wavfile.write(f'{name}.wav', Fs, audio)\n"
   ]
  },
  {
   "cell_type": "code",
   "execution_count": 52,
   "metadata": {},
   "outputs": [],
   "source": [
    "def unmixer(X):\n",
    "    M, N = X.shape\n",
    "    W = np.eye(N)\n",
    "\n",
    "    anneal = [0.1 , 0.1, 0.1, 0.05, 0.05, 0.05, 0.02, 0.02, 0.01 , 0.01, 0.005, 0.005, 0.002, 0.002, 0.001, 0.001]\n",
    "    print('Separating tracks ...')\n",
    "    for lr in anneal:\n",
    "        print(lr)\n",
    "        rand = np.random.permutation(range(M))\n",
    "        for i in rand:\n",
    "            x = X[i]\n",
    "            W = update_W(W, x, lr)\n",
    "\n",
    "    return W"
   ]
  },
  {
   "cell_type": "code",
   "execution_count": 53,
   "metadata": {},
   "outputs": [],
   "source": [
    "def main():\n",
    "    #Normalizing the data\n",
    "    X=normalize(load_data())\n",
    "    \n",
    "    for col in range(X.shape[1]):\n",
    "        save_sound(X[:,col],f'mixed_{col}' )\n",
    "    \n",
    "    W=unmixer(X) \n",
    "    \n",
    "    #Sources matrix\n",
    "    S=unmix(X,W)\n",
    "    \n",
    "    for col in range(S.shape[1]):\n",
    "        save_sound(S[:,col],f'split_{col}' )"
   ]
  },
  {
   "cell_type": "markdown",
   "metadata": {},
   "source": [
    "Suggestion: Try using vlc media player if you're having trouble playing the audio(.wav files)"
   ]
  },
  {
   "cell_type": "code",
   "execution_count": 54,
   "metadata": {},
   "outputs": [
    {
     "name": "stdout",
     "output_type": "stream",
     "text": [
      "Separating tracks ...\n",
      "0.1\n",
      "0.1\n",
      "0.1\n",
      "0.05\n",
      "0.05\n",
      "0.05\n",
      "0.02\n",
      "0.02\n",
      "0.01\n",
      "0.01\n",
      "0.005\n",
      "0.005\n",
      "0.002\n",
      "0.002\n",
      "0.001\n",
      "0.001\n"
     ]
    }
   ],
   "source": [
    "if __name__=='__main__':\n",
    "    main()"
   ]
  },
  {
   "cell_type": "code",
   "execution_count": null,
   "metadata": {},
   "outputs": [],
   "source": []
  }
 ],
 "metadata": {
  "kernelspec": {
   "display_name": "Python 3",
   "language": "python",
   "name": "python3"
  },
  "language_info": {
   "codemirror_mode": {
    "name": "ipython",
    "version": 3
   },
   "file_extension": ".py",
   "mimetype": "text/x-python",
   "name": "python",
   "nbconvert_exporter": "python",
   "pygments_lexer": "ipython3",
   "version": "3.8.3"
  }
 },
 "nbformat": 4,
 "nbformat_minor": 4
}
