{
 "cells": [
  {
   "cell_type": "markdown",
   "metadata": {},
   "source": [
    "1.  A SIMPLE NEURAL NETWORK\n",
    "\n",
    "(b).\n",
    "Yes,the dataset can be classified with 100% accuracy with step function f(x) as the activation function.\n",
    "On observing the scatterplot of the data,we can see that the examples with labels of class 0 lies inside the triangle and otherwise.\n",
    "The data points will be in class 1 if these three inequalities are followed which forms the triangle:\n",
    "          x1<=0.5\n",
    "          x2<=0.5\n",
    "          x1+x2>=4\n",
    "The hidden layer neurons,h1, h2 & h3 are activated by these inequalities respectively.\n",
    "So the linear equations(z) of hidden layer are compared with the inequalities to define the weights accordingly.\n",
    "\n",
    "This implies that for x to be in class y=1,at least one of the three neurons above should be activated\n",
    "Then for the weights defined between hidden layer and output layer,we have the inequality:\n",
    "          h1+h2+h3>=1 (h1,h2,h3 are the activation state(1 or 0) 'here')\n",
    "\n",
    "The weights are then determined by these equations.\n",
    "          "
   ]
  },
  {
   "cell_type": "code",
   "execution_count": 5,
   "metadata": {},
   "outputs": [],
   "source": [
    "import json\n",
    "\n",
    "def example_weights():\n",
    "    \"\"\"This is an example function that returns weights.\n",
    "    Use this function as a template for optimal_step_weights and optimal_sigmoid_weights.\n",
    "    \"\"\"\n",
    "    w = {}\n",
    "\n",
    "    w['hidden_layer_0_1'] = 0\n",
    "    w['hidden_layer_1_1'] = 0\n",
    "    w['hidden_layer_2_1'] = 0\n",
    "    w['hidden_layer_0_2'] = 0\n",
    "    w['hidden_layer_1_2'] = 0\n",
    "    w['hidden_layer_2_2'] = 0\n",
    "    w['hidden_layer_0_3'] = 0\n",
    "    w['hidden_layer_1_3'] = 0\n",
    "    w['hidden_layer_2_3'] = 0\n",
    "\n",
    "    w['output_layer_0'] = 0\n",
    "    w['output_layer_1'] = 0\n",
    "    w['output_layer_2'] = 0\n",
    "    w['output_layer_3'] = 0\n",
    "\n",
    "    return w"
   ]
  },
  {
   "cell_type": "code",
   "execution_count": 6,
   "metadata": {},
   "outputs": [],
   "source": [
    "def optimal_step_weights():\n",
    "    \"\"\"Return the optimal weights for the neural network with a step activation function.\n",
    "    \n",
    "    The hidden layer weights are notated by [1] on the problem set and \n",
    "    the output layer weights are notated by [2].\n",
    "\n",
    "    This function returns a dict with elements for each weight.\n",
    "\n",
    "    \"\"\"\n",
    "    w = example_weights()\n",
    "\n",
    "   \n",
    "    w['hidden_layer_0_1'] = 0.5\n",
    "    w['hidden_layer_1_1'] = -1\n",
    "    w['hidden_layer_2_1'] = 0\n",
    "    w['hidden_layer_0_2'] = 0.5\n",
    "    w['hidden_layer_1_2'] = 0\n",
    "    w['hidden_layer_2_2'] = -1\n",
    "    w['hidden_layer_0_3'] = -4\n",
    "    w['hidden_layer_1_3'] = 1\n",
    "    w['hidden_layer_2_3'] = 1\n",
    "\n",
    "    w['output_layer_0'] = -1\n",
    "    w['output_layer_1'] = 1\n",
    "    w['output_layer_2'] = 1\n",
    "    w['output_layer_3'] = 1\n",
    "   \n",
    "    return w"
   ]
  },
  {
   "cell_type": "markdown",
   "metadata": {},
   "source": [
    "(c).\n",
    "No,it is not possible to have a set of weights that allow the neural network to classify this dataset\n",
    "with 100% accuracy when the activation function for h1 h2 h3 is the linear function f(x) = x.\n",
    "\n",
    "And as it can be seen that the decision boundary will be straight line which can't separate the two classes."
   ]
  },
  {
   "cell_type": "code",
   "execution_count": 7,
   "metadata": {},
   "outputs": [],
   "source": [
    "def optimal_linear_weights():\n",
    "    \"\"\"Return the optimal weights for the neural network with a linear activation function for the hidden units.\n",
    "    \n",
    "    The hidden layer weights are notated by [1] on the problem set and \n",
    "    the output layer weights are notated by [2].\n",
    "\n",
    "    This function returns a dict with elements for each weight.\n",
    "\n",
    "    \"\"\"\n",
    "    w = example_weights()\n",
    "\n",
    "   \n",
    "    return w"
   ]
  },
  {
   "cell_type": "code",
   "execution_count": 8,
   "metadata": {},
   "outputs": [],
   "source": [
    "if __name__ == \"__main__\":\n",
    "    step_wgts = optimal_step_weights()\n",
    "\n",
    "    with open('output/sol_1(b)_step_weights', 'w') as f:\n",
    "        json.dump(step_wgts, f)\n",
    "\n",
    "    linear_wgts = optimal_linear_weights()\n",
    "\n",
    "    with open('output/sol_1(c)_linear_weights', 'w') as f:\n",
    "        json.dump(linear_wgts, f)\n"
   ]
  },
  {
   "cell_type": "code",
   "execution_count": null,
   "metadata": {},
   "outputs": [],
   "source": []
  }
 ],
 "metadata": {
  "kernelspec": {
   "display_name": "Python 3",
   "language": "python",
   "name": "python3"
  },
  "language_info": {
   "codemirror_mode": {
    "name": "ipython",
    "version": 3
   },
   "file_extension": ".py",
   "mimetype": "text/x-python",
   "name": "python",
   "nbconvert_exporter": "python",
   "pygments_lexer": "ipython3",
   "version": "3.8.3"
  }
 },
 "nbformat": 4,
 "nbformat_minor": 4
}
